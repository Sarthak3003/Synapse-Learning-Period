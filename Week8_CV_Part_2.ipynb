{
  "nbformat": 4,
  "nbformat_minor": 0,
  "metadata": {
    "accelerator": "GPU",
    "colab": {
      "name": "week8_part2_task.ipynb",
      "provenance": [],
      "collapsed_sections": [],
      "include_colab_link": true
    },
    "kernelspec": {
      "display_name": "Python 3",
      "name": "python3"
    },
    "language_info": {
      "name": "python"
    }
  },
  "cells": [
    {
      "cell_type": "markdown",
      "metadata": {
        "id": "view-in-github",
        "colab_type": "text"
      },
      "source": [
        "<a href=\"https://colab.research.google.com/github/Sarthak3003/Synapse-Learning-Period/blob/CV_week-3/week8_part2_task.ipynb\" target=\"_parent\"><img src=\"https://colab.research.google.com/assets/colab-badge.svg\" alt=\"Open In Colab\"/></a>"
      ]
    },
    {
      "cell_type": "markdown",
      "metadata": {
        "id": "NVdR1p0yN1YE"
      },
      "source": [
        "# Class Models, Custom Layers, GPU training and Custom Resnets"
      ]
    },
    {
      "cell_type": "markdown",
      "metadata": {
        "id": "5jVXoMVAzLdj"
      },
      "source": [
        "## Instructions\n",
        "1. Use Google Collab for this task\n",
        "2. change runtime type to GPU in the Runtime tab"
      ]
    },
    {
      "cell_type": "markdown",
      "metadata": {
        "id": "Q0OSmQlRtyMh"
      },
      "source": [
        "## Making models using class\n",
        "\n",
        "1. In earlier tasks, we learnt how to make a model using the sequential api provided by tensorflow.\n",
        "2. Now we learnt how to make a model using a class based approach."
      ]
    },
    {
      "cell_type": "markdown",
      "metadata": {
        "id": "T67gFCm5yKJ0"
      },
      "source": [
        "1. <b>Import</b>"
      ]
    },
    {
      "cell_type": "code",
      "metadata": {
        "id": "Bvd3N1aMte77"
      },
      "source": [
        "import numpy as np\n",
        "import tensorflow as tf\n",
        "import matplotlib.pyplot as plt\n",
        "from tensorflow import keras\n",
        "from tensorflow.keras import Sequential, layers, initializers, models, callbacks, optimizers\n",
        "from tensorflow.keras.models import Model\n",
        "from tensorflow.keras.utils import to_categorical\n",
        "from tensorflow.keras.datasets import mnist"
      ],
      "execution_count": 39,
      "outputs": []
    },
    {
      "cell_type": "markdown",
      "metadata": {
        "id": "qaaIDs0Xyeve"
      },
      "source": [
        "2. <b>To avoid GPU errors</b>"
      ]
    },
    {
      "cell_type": "code",
      "metadata": {
        "id": "lEZk_IRuydWT"
      },
      "source": [
        "physical_devices = tf.config.list_physical_devices(\"GPU\")\n",
        "tf.config.experimental.set_memory_growth(physical_devices[0], True) "
      ],
      "execution_count": 40,
      "outputs": []
    },
    {
      "cell_type": "markdown",
      "metadata": {
        "id": "qszmpUatzwPs"
      },
      "source": [
        "3. <b>Loading MNIST Data</b>"
      ]
    },
    {
      "cell_type": "code",
      "metadata": {
        "id": "fw4x8BFxzHHb"
      },
      "source": [
        "(x_train, y_train) , (x_test, y_test) = mnist.load_data()\n",
        "#flattening the images into 1 dimensional array\n",
        "x_train = x_train.reshape(-1, 28*28).astype(\"float32\") / 255.0\n",
        "x_test = x_test.reshape(-1, 28*28).astype(\"float32\") / 255.0"
      ],
      "execution_count": 41,
      "outputs": []
    },
    {
      "cell_type": "code",
      "metadata": {
        "colab": {
          "base_uri": "https://localhost:8080/"
        },
        "id": "4CTHTVKj0jh6",
        "outputId": "45b48b1f-3755-4118-dbf4-8b2f36ac4337"
      },
      "source": [
        "len(x_train)"
      ],
      "execution_count": 42,
      "outputs": [
        {
          "output_type": "execute_result",
          "data": {
            "text/plain": [
              "60000"
            ]
          },
          "metadata": {},
          "execution_count": 42
        }
      ]
    },
    {
      "cell_type": "code",
      "metadata": {
        "colab": {
          "base_uri": "https://localhost:8080/"
        },
        "id": "849L-lA80lN4",
        "outputId": "0eb9565e-d3b9-4b5d-bef3-1f261a7ef020"
      },
      "source": [
        "len(x_test)"
      ],
      "execution_count": 43,
      "outputs": [
        {
          "output_type": "execute_result",
          "data": {
            "text/plain": [
              "10000"
            ]
          },
          "metadata": {},
          "execution_count": 43
        }
      ]
    },
    {
      "cell_type": "markdown",
      "metadata": {
        "id": "FWRIJkRa05n6"
      },
      "source": [
        "4. <b>Building the model</b>"
      ]
    },
    {
      "cell_type": "code",
      "metadata": {
        "id": "zJARi9jQ0rfr"
      },
      "source": [
        "#we will extend the class from keras.Model\n",
        "#this means that we can use the functionalities of keras.model\n",
        "#extending a class is an object oriented concept, so google that if you are confused\n",
        "class MyModel(keras.Model):\n",
        "\n",
        "  def __init__(self):\n",
        "    super(MyModel, self).__init__() #super is also an object oriented thing which allows us to call the init method of the parent class (keras.Model here)\n",
        "    self.dense1 = layers.Dense(64) #self links the variable to the class. You can access dense1 anywhere in this class by using self.dense1\n",
        "    self.dense2 = layers.Dense(10)\n",
        "\n",
        "  def call(self, input_tensor):\n",
        "    x = tf.nn.relu(self.dense1(input_tensor))\n",
        "    x = self.dense2(x)\n",
        "    return x"
      ],
      "execution_count": 44,
      "outputs": []
    },
    {
      "cell_type": "markdown",
      "metadata": {
        "id": "OoTVfSbf6l_Q"
      },
      "source": [
        "5. <b>Creating the model object</b>"
      ]
    },
    {
      "cell_type": "code",
      "metadata": {
        "id": "fQx1h46h6lBR"
      },
      "source": [
        "model = MyModel()"
      ],
      "execution_count": 45,
      "outputs": []
    },
    {
      "cell_type": "markdown",
      "metadata": {
        "id": "Y6kOrpUT6yRV"
      },
      "source": [
        "6. <b>Compiling the model</b>"
      ]
    },
    {
      "cell_type": "code",
      "metadata": {
        "id": "v-8eI1MO6tYS"
      },
      "source": [
        "model.compile(\n",
        "    loss = keras.losses.SparseCategoricalCrossentropy(from_logits=True),\n",
        "    optimizer = keras.optimizers.Adam(),\n",
        "    metrics = ['accuracy'],\n",
        ")"
      ],
      "execution_count": 46,
      "outputs": []
    },
    {
      "cell_type": "markdown",
      "metadata": {
        "id": "DixE2_s473n-"
      },
      "source": [
        "7. <b>Fitting the model"
      ]
    },
    {
      "cell_type": "code",
      "metadata": {
        "colab": {
          "base_uri": "https://localhost:8080/"
        },
        "id": "WwOXXNQS7La1",
        "outputId": "c5394dfc-cb25-4bc4-88bb-9c793668bb33"
      },
      "source": [
        "model.fit(x_train, y_train, batch_size=32, epochs=2)"
      ],
      "execution_count": 47,
      "outputs": [
        {
          "output_type": "stream",
          "name": "stderr",
          "text": [
            "/usr/local/lib/python3.7/dist-packages/tensorflow/python/data/ops/dataset_ops.py:4527: UserWarning: Even though the `tf.config.experimental_run_functions_eagerly` option is set, this option does not apply to tf.data functions. To force eager execution of tf.data functions, please use `tf.data.experimental.enable_debug_mode()`.\n",
            "  \"Even though the `tf.config.experimental_run_functions_eagerly` \"\n"
          ]
        },
        {
          "output_type": "stream",
          "name": "stdout",
          "text": [
            "Epoch 1/2\n",
            "1875/1875 [==============================] - 34s 18ms/step - loss: 0.3076 - accuracy: 0.9140\n",
            "Epoch 2/2\n",
            "1875/1875 [==============================] - 34s 18ms/step - loss: 0.1498 - accuracy: 0.9566\n"
          ]
        },
        {
          "output_type": "execute_result",
          "data": {
            "text/plain": [
              "<keras.callbacks.History at 0x7f8cd5668cd0>"
            ]
          },
          "metadata": {},
          "execution_count": 47
        }
      ]
    },
    {
      "cell_type": "markdown",
      "metadata": {
        "id": "1AO3QvJr8_VX"
      },
      "source": [
        "6. <b>Evaluate the model</b>"
      ]
    },
    {
      "cell_type": "code",
      "metadata": {
        "id": "-MLpsRt58GC6",
        "colab": {
          "base_uri": "https://localhost:8080/"
        },
        "outputId": "db524843-5469-4979-dc4c-bb64058d05fa"
      },
      "source": [
        "model.evaluate(x_test, y_test, batch_size=32)"
      ],
      "execution_count": 48,
      "outputs": [
        {
          "output_type": "stream",
          "name": "stdout",
          "text": [
            " 11/313 [>.............................] - ETA: 3s - loss: 0.0952 - accuracy: 0.9801"
          ]
        },
        {
          "output_type": "stream",
          "name": "stderr",
          "text": [
            "/usr/local/lib/python3.7/dist-packages/tensorflow/python/data/ops/dataset_ops.py:4527: UserWarning: Even though the `tf.config.experimental_run_functions_eagerly` option is set, this option does not apply to tf.data functions. To force eager execution of tf.data functions, please use `tf.data.experimental.enable_debug_mode()`.\n",
            "  \"Even though the `tf.config.experimental_run_functions_eagerly` \"\n"
          ]
        },
        {
          "output_type": "stream",
          "name": "stdout",
          "text": [
            "313/313 [==============================] - 4s 11ms/step - loss: 0.1246 - accuracy: 0.9615\n"
          ]
        },
        {
          "output_type": "execute_result",
          "data": {
            "text/plain": [
              "[0.12464631348848343, 0.9614999890327454]"
            ]
          },
          "metadata": {},
          "execution_count": 48
        }
      ]
    },
    {
      "cell_type": "code",
      "metadata": {
        "id": "x9Fal70p9QZX",
        "colab": {
          "base_uri": "https://localhost:8080/"
        },
        "outputId": "43108464-baca-4286-fca6-293888d1f7e4"
      },
      "source": [
        "model.summary()"
      ],
      "execution_count": 49,
      "outputs": [
        {
          "output_type": "stream",
          "name": "stdout",
          "text": [
            "Model: \"my_model_3\"\n",
            "_________________________________________________________________\n",
            " Layer (type)                Output Shape              Param #   \n",
            "=================================================================\n",
            " dense_10 (Dense)            multiple                  50240     \n",
            "                                                                 \n",
            " dense_11 (Dense)            multiple                  650       \n",
            "                                                                 \n",
            "=================================================================\n",
            "Total params: 50,890\n",
            "Trainable params: 50,890\n",
            "Non-trainable params: 0\n",
            "_________________________________________________________________\n"
          ]
        }
      ]
    },
    {
      "cell_type": "markdown",
      "metadata": {
        "id": "K8GUhKhs-RIL"
      },
      "source": [
        "<b>Why class based</b>\n",
        "1. allows for better code visualization\n",
        "2. better connectivity\n",
        "3. helps in modularizing the code"
      ]
    },
    {
      "cell_type": "markdown",
      "metadata": {
        "id": "KTQn7xVS-baA"
      },
      "source": [
        "<b>Now we'll learn to make the layers (like Dense) using classes</b><br><br>\n",
        "<b>Why do we need to dive till making layers?</b>\n",
        "1. sometimes when we make our own models, we want to do our operations.<br><br>\n",
        "  a. dense follows the operation WX+b<br><br>\n",
        "  b. while back propogation, tf uses it's own automatic derivative algorithm to calculate the derivative of this operation and uses it for gradient descent.<br><br>\n",
        "  c. What if we want to implement a dense operation which does (WX x 5) + (7 x b)? How will tensorflow account for this derivative?<br><br>\n",
        "  d. The answer is : by using the keras.Layer class to build the layer <br><br>\n",
        "\n",
        "2. Hence, we can do any complex operation using the Layer class and tensorflow will account for its derivative during back propogation."
      ]
    },
    {
      "cell_type": "code",
      "metadata": {
        "id": "d00WbYM_Dgun"
      },
      "source": [
        ""
      ],
      "execution_count": 49,
      "outputs": []
    },
    {
      "cell_type": "markdown",
      "metadata": {
        "id": "0jjbIKZ79fCX"
      },
      "source": [
        "## Making layers using classes"
      ]
    },
    {
      "cell_type": "markdown",
      "metadata": {
        "id": "_LSso33-Doc8"
      },
      "source": [
        "1. <b>Building the Dense layer from scratch</b>"
      ]
    },
    {
      "cell_type": "code",
      "metadata": {
        "id": "vS88cD5C9mbX"
      },
      "source": [
        "class MyDense(layers.Layer):\n",
        "  #when object created, first init is called\n",
        "  def __init__(self, units=32):\n",
        "      super(MyDense, self).__init__()\n",
        "      self.units = units\n",
        "\n",
        "  #init automatically calls build and the weights are set. init passes the input shape to build automatically. (input shape for dense 1 will be (batch_size, 784) 28*28=784, for dense 2 -> (batch_size,64))\n",
        "  def build(self, input_shape):\n",
        "      print(input_shape)\n",
        "      self.w = self.add_weight(shape=(input_shape[-1], self.units), #why do we choose this shape? ponder (make a neural net diagram and see what shape fits the matrix multiplication W*X)\n",
        "                               initializer='random_normal', #what other initialization methods exist?\n",
        "                               trainable=True)\n",
        "      self.b = self.add_weight(shape=(self.units,),\n",
        "                               initializer='zeros',\n",
        "                               trainable=True)\n",
        "\n",
        "  #build calls the call function which executes the operation\n",
        "  def call(self, inputs):\n",
        "      return tf.matmul(inputs, self.w) + self.b"
      ],
      "execution_count": 50,
      "outputs": []
    },
    {
      "cell_type": "markdown",
      "metadata": {
        "id": "MOweaJ9gFcwG"
      },
      "source": [
        "2. <b>Using custom Dense to build MyModel</b>"
      ]
    },
    {
      "cell_type": "code",
      "metadata": {
        "id": "M1VtughXFbrZ"
      },
      "source": [
        "#we will extend the class from keras.Model\n",
        "#this means that we can use the functionalities of keras.model\n",
        "#extending a class is an object oriented concept, so google that if you are confused\n",
        "class MyModel(keras.Model):\n",
        "\n",
        "  def __init__(self):\n",
        "    super(MyModel, self).__init__() #super is also an object oriented thing which allows us to call the init method of the parent class (keras.Model here)\n",
        "    self.dense1 = MyDense(64) #self links the variable to the class. You can access dense1 anywhere in this class by using self.dense1\n",
        "    self.dense2 = MyDense(10)\n",
        "\n",
        "  def call(self, input_tensor):\n",
        "    ###\n",
        "    #complete this code\n",
        "    \n",
        "    x = tf.nn.relu(self.dense1(input_tensor))\n",
        "    x = self.dense2(x)\n",
        "    return x\n",
        "\n",
        "    ###"
      ],
      "execution_count": 51,
      "outputs": []
    },
    {
      "cell_type": "markdown",
      "metadata": {
        "id": "Y9jXYFrmFxUZ"
      },
      "source": [
        "3. <b>Training the model </b>\n"
      ]
    },
    {
      "cell_type": "code",
      "metadata": {
        "id": "3e0orLBUFvKP",
        "colab": {
          "base_uri": "https://localhost:8080/"
        },
        "outputId": "18bb6ddb-a729-43cd-e82e-25753b90af70"
      },
      "source": [
        "#train the model\n",
        "#write code here\n",
        "\n",
        "hehe = MyModel()\n",
        "\n",
        "hehe.compile(\n",
        "    loss = keras.losses.SparseCategoricalCrossentropy(from_logits=True),\n",
        "    optimizer = keras.optimizers.Adam(),\n",
        "    metrics = ['accuracy'],\n",
        ")\n",
        "\n",
        "hehe.fit(x_train, y_train, batch_size=32, epochs=2)"
      ],
      "execution_count": 52,
      "outputs": [
        {
          "output_type": "stream",
          "name": "stderr",
          "text": [
            "/usr/local/lib/python3.7/dist-packages/tensorflow/python/data/ops/dataset_ops.py:4527: UserWarning: Even though the `tf.config.experimental_run_functions_eagerly` option is set, this option does not apply to tf.data functions. To force eager execution of tf.data functions, please use `tf.data.experimental.enable_debug_mode()`.\n",
            "  \"Even though the `tf.config.experimental_run_functions_eagerly` \"\n"
          ]
        },
        {
          "output_type": "stream",
          "name": "stdout",
          "text": [
            "Epoch 1/2\n",
            "(32, 784)\n",
            "(32, 64)\n",
            "1875/1875 [==============================] - 35s 19ms/step - loss: 0.3391 - accuracy: 0.9071\n",
            "Epoch 2/2\n",
            "1875/1875 [==============================] - 35s 19ms/step - loss: 0.1541 - accuracy: 0.9551\n"
          ]
        },
        {
          "output_type": "execute_result",
          "data": {
            "text/plain": [
              "<keras.callbacks.History at 0x7f8cd45e0450>"
            ]
          },
          "metadata": {},
          "execution_count": 52
        }
      ]
    },
    {
      "cell_type": "markdown",
      "metadata": {
        "id": "3j_Nuwg8KJmL"
      },
      "source": [
        "4. <b>Testing the model </b>\n"
      ]
    },
    {
      "cell_type": "code",
      "metadata": {
        "id": "fu9nFqd4F5wP",
        "colab": {
          "base_uri": "https://localhost:8080/"
        },
        "outputId": "a05634ac-7c9f-4677-bfe4-2c0eff6987a8"
      },
      "source": [
        "#evaluate the model\n",
        "#write code here\n",
        "\n",
        "model.evaluate(x_test, y_test, batch_size=32)"
      ],
      "execution_count": 53,
      "outputs": [
        {
          "output_type": "stream",
          "name": "stdout",
          "text": [
            " 11/313 [>.............................] - ETA: 3s - loss: 0.0952 - accuracy: 0.9801"
          ]
        },
        {
          "output_type": "stream",
          "name": "stderr",
          "text": [
            "/usr/local/lib/python3.7/dist-packages/tensorflow/python/data/ops/dataset_ops.py:4527: UserWarning: Even though the `tf.config.experimental_run_functions_eagerly` option is set, this option does not apply to tf.data functions. To force eager execution of tf.data functions, please use `tf.data.experimental.enable_debug_mode()`.\n",
            "  \"Even though the `tf.config.experimental_run_functions_eagerly` \"\n"
          ]
        },
        {
          "output_type": "stream",
          "name": "stdout",
          "text": [
            "313/313 [==============================] - 4s 11ms/step - loss: 0.1246 - accuracy: 0.9615\n"
          ]
        },
        {
          "output_type": "execute_result",
          "data": {
            "text/plain": [
              "[0.12464631348848343, 0.9614999890327454]"
            ]
          },
          "metadata": {},
          "execution_count": 53
        }
      ]
    },
    {
      "cell_type": "markdown",
      "metadata": {
        "id": "g1P0__HUKSOJ"
      },
      "source": [
        "#### We got a very similar result with our own Dense Layer"
      ]
    },
    {
      "cell_type": "code",
      "metadata": {
        "id": "PzXSNjRuKPl3"
      },
      "source": [
        ""
      ],
      "execution_count": 53,
      "outputs": []
    },
    {
      "cell_type": "markdown",
      "metadata": {
        "id": "0Saeq1rcLWNg"
      },
      "source": [
        "## Now your turn\n",
        "1. We will build a mini custom version of ResNet CNN architecture using the keras.Model\n",
        "\n",
        "2. Resnet solves the problem of vanishing gradients (https://www.youtube.com/watch?v=JIWXbzRXk1I) and allows us to build very deep neural networks.\n",
        "\n",
        "\n",
        "RESNET BLOG RESOURCE : https://towardsdatascience.com/understanding-and-visualizing-resnets-442284831be8\n",
        "\n",
        "RESNET VIDEO RESOURCE : https://www.youtube.com/watch?v=sAzL4XMke80&t=314s\n",
        "\n",
        "Read the above blog carefully and watch the video for better understanding as well."
      ]
    },
    {
      "cell_type": "markdown",
      "metadata": {
        "id": "QGrDssFOM-dm"
      },
      "source": [
        "#### <b>Our Custom Model architecture</b>\n",
        "DATASET -> MNIST\n",
        "\n",
        "1. Input -> 28,28,1 images\n",
        "2. 8 filters of 5x5, padding none => (24,24,8)\n",
        "3. Resblock 1\n",
        "  - 16 filters of 7x7, padding none => (18,18,16) <b>[im_res_1]</b>\n",
        "  - 16 filters of 8x8, padding same => (18,18,16)\n",
        "  - 16 filters of 10x10, padding same => (18,18,16) <b>[output_res_1]</b>\n",
        "  - (sum of output_res_1 and im_res_1 here) => (18,18,16)\n",
        "4. maxpooling => (9,9,16)\n",
        "5. Resblock 2\n",
        "  - 32 filters of 6x6, padding none => (4,4,32) <b>[im_res_2]</b>\n",
        "  - 32 filters of 7x7, padding same => (4,4,32)\n",
        "  - 32 filters of 8x8, padding same => (4,4,32) <b>[output_res_2]</b>\n",
        "  - (sum of output_res_2 and im_res_2 here) => (4,4,32)\n",
        "6. maxpooling => (2, 2, 32)\n",
        "7. Flatten => (128,1)\n",
        "8. Dense, 64 units => (64,1)\n",
        "9. Dense, 10 units => (10, 1)\n",
        "10. use softmax to predict\n",
        "\n"
      ]
    },
    {
      "cell_type": "markdown",
      "metadata": {
        "id": "Fb1biy3uSRDd"
      },
      "source": [
        "### <b>Instructions</b>\n",
        "1. Build the custom Resnet model based on the architecture described above\n",
        "2. Only use class based approach\n",
        "3. Create a custom model using class based approach. Name the Class CustomResNet\n",
        "4. Use RELU as activation function, Batch normalization after every layer\n",
        "5. reload the data as it was already flattened before\n",
        "6. Use custom layers only if you find the use case for it here \n",
        "\n",
        "### <b>Notes</b>\n",
        "1. all layers are supposed to be defined in the init method.If defined anyehere else, will result in errors.\n",
        "2. Repititive layers will need seperate initializations\n",
        "3. you can check if your model is correct by the following code : -\n",
        " - model = CustomResNet()\n",
        " - model.build((None,28,28,1))\n",
        " - model.summary()\n",
        "4. Summary must have all layers defined and the trainable paramaetrs should not be zero"
      ]
    },
    {
      "cell_type": "code",
      "metadata": {
        "id": "XYTxhj0pWmPO"
      },
      "source": [
        "#imports that you can use\n",
        "from tensorflow.keras.layers import Flatten, Dense, Conv2D, Dropout, BatchNormalization, Activation, Add, Input, MaxPool2D\n",
        "tf.config.run_functions_eagerly(True)\n",
        "\n",
        "from keras.datasets import mnist"
      ],
      "execution_count": 54,
      "outputs": []
    },
    {
      "cell_type": "code",
      "metadata": {
        "id": "nY2ag3fdas_m"
      },
      "source": [
        "# load the mnist dataset here\n",
        "# make sure to resize the dataset to consider the 3rd image dimension as well\n",
        "# dataset shape must be (num_images, height, width, channel)\n",
        "# divide data into train and test\n",
        "\n",
        "# write code here\n",
        "(x_train, y_train) , (x_test, y_test) = mnist.load_data()\n",
        "x_train =x_train.reshape(60000,28,28,1).astype(\"float32\") / 255.0\n",
        "x_test =x_test.reshape(10000,28,28,1).astype(\"float32\") / 255.0\n"
      ],
      "execution_count": 55,
      "outputs": []
    },
    {
      "cell_type": "code",
      "metadata": {
        "id": "nvxmpl1OU67p"
      },
      "source": [
        "#make a class based model for Custom ResNet (refer instructions and notes above)\n",
        "# write code here\n",
        "class CustomResNet(keras.Model) :\n",
        "  def __init__(self) :\n",
        "    super(CustomResNet, self).__init__()\n",
        "    self.conv1=layers.Conv2D(filters=8,kernel_size=(5,5),padding='valid',activation='relu')\n",
        "    self.bn1=layers.BatchNormalization()\n",
        "    self.conv2=layers.Conv2D(filters=16,padding='valid',kernel_size=(7,7),activation='relu')\n",
        "    self.bn2=layers.BatchNormalization()\n",
        "    self.conv3=layers.Conv2D(filters=16,padding='same',kernel_size=(8,8),activation='relu')\n",
        "    self.bn3=layers.BatchNormalization()\n",
        "    self.conv4=layers.Conv2D(filters=16,padding='same',kernel_size=(10,10),activation='relu')\n",
        "    self.bn4=layers.BatchNormalization()\n",
        "    self.mp1=layers.MaxPool2D(pool_size=(2,2))\n",
        "    self.bn5=layers.BatchNormalization()\n",
        "    self.conv5=layers.Conv2D(filters=32,kernel_size=(6,6),padding='valid',activation='relu')\n",
        "    self.bn6=layers.BatchNormalization()\n",
        "    self.conv6=layers.Conv2D(filters=32,kernel_size=(7,7),padding='same',activation='relu')\n",
        "    self.bn7=layers.BatchNormalization()\n",
        "    self.conv7=layers.Conv2D(filters=32,kernel_size=(8,8),padding='same',activation='relu')\n",
        "    self.bn8=layers.BatchNormalization()\n",
        "    self.mp2=layers.MaxPool2D(pool_size=(2,2))\n",
        "    self.bn9=layers.BatchNormalization()\n",
        "    self.flatten=layers.Flatten()\n",
        "    self.dense1=layers.Dense(64,activation='relu')\n",
        "    self.dense2=layers.Dense(10,activation='softmax')\n",
        "\n",
        "  def call(self, input_tensor):\n",
        "    x=tf.nn.relu(self.conv1(input_tensor))\n",
        "    x=self.bn1(x)\n",
        "    x=self.conv2(x)\n",
        "    x1=self.bn2(x)\n",
        "    x=self.conv3(x)\n",
        "    x=self.bn3(x)\n",
        "    x=self.conv4(x)\n",
        "    x2=self.bn4(x)\n",
        "    x=x1+x2\n",
        "    x=self.mp1(x)\n",
        "    x=self.bn5(x)\n",
        "    x=self.conv5(x)\n",
        "    x1=self.bn6(x)\n",
        "    x=self.conv6(x)\n",
        "    x=self.bn7(x)\n",
        "    x=self.conv7(x)\n",
        "    x2=self.bn8(x)\n",
        "    x=x1+x2\n",
        "    x=self.mp2(x)\n",
        "    x=self.bn9(x)\n",
        "    x=self.flatten(x)\n",
        "    x=self.dense1(x)\n",
        "    x=self.dense2(x)\n",
        "    return x"
      ],
      "execution_count": 56,
      "outputs": []
    },
    {
      "cell_type": "code",
      "metadata": {
        "id": "WRWTnXtxaEEz",
        "colab": {
          "base_uri": "https://localhost:8080/"
        },
        "outputId": "d13c69a7-2358-4e14-d59b-e1f735c15d5a"
      },
      "source": [
        "#find summary of model\n",
        "# write code here\n",
        "model = CustomResNet()\n",
        "model.build((60000,28,28,1))\n",
        "model.summary()"
      ],
      "execution_count": 57,
      "outputs": [
        {
          "output_type": "stream",
          "name": "stdout",
          "text": [
            "Model: \"custom_res_net_3\"\n",
            "_________________________________________________________________\n",
            " Layer (type)                Output Shape              Param #   \n",
            "=================================================================\n",
            " conv2d_21 (Conv2D)          multiple                  208       \n",
            "                                                                 \n",
            " batch_normalization_27 (Bat  multiple                 32        \n",
            " chNormalization)                                                \n",
            "                                                                 \n",
            " conv2d_22 (Conv2D)          multiple                  6288      \n",
            "                                                                 \n",
            " batch_normalization_28 (Bat  multiple                 64        \n",
            " chNormalization)                                                \n",
            "                                                                 \n",
            " conv2d_23 (Conv2D)          multiple                  16400     \n",
            "                                                                 \n",
            " batch_normalization_29 (Bat  multiple                 64        \n",
            " chNormalization)                                                \n",
            "                                                                 \n",
            " conv2d_24 (Conv2D)          multiple                  25616     \n",
            "                                                                 \n",
            " batch_normalization_30 (Bat  multiple                 64        \n",
            " chNormalization)                                                \n",
            "                                                                 \n",
            " max_pooling2d_6 (MaxPooling  multiple                 0         \n",
            " 2D)                                                             \n",
            "                                                                 \n",
            " batch_normalization_31 (Bat  multiple                 64        \n",
            " chNormalization)                                                \n",
            "                                                                 \n",
            " conv2d_25 (Conv2D)          multiple                  18464     \n",
            "                                                                 \n",
            " batch_normalization_32 (Bat  multiple                 128       \n",
            " chNormalization)                                                \n",
            "                                                                 \n",
            " conv2d_26 (Conv2D)          multiple                  50208     \n",
            "                                                                 \n",
            " batch_normalization_33 (Bat  multiple                 128       \n",
            " chNormalization)                                                \n",
            "                                                                 \n",
            " conv2d_27 (Conv2D)          multiple                  65568     \n",
            "                                                                 \n",
            " batch_normalization_34 (Bat  multiple                 128       \n",
            " chNormalization)                                                \n",
            "                                                                 \n",
            " max_pooling2d_7 (MaxPooling  multiple                 0         \n",
            " 2D)                                                             \n",
            "                                                                 \n",
            " batch_normalization_35 (Bat  multiple                 128       \n",
            " chNormalization)                                                \n",
            "                                                                 \n",
            " flatten_3 (Flatten)         multiple                  0         \n",
            "                                                                 \n",
            " dense_12 (Dense)            multiple                  8256      \n",
            "                                                                 \n",
            " dense_13 (Dense)            multiple                  650       \n",
            "                                                                 \n",
            "=================================================================\n",
            "Total params: 192,458\n",
            "Trainable params: 192,058\n",
            "Non-trainable params: 400\n",
            "_________________________________________________________________\n"
          ]
        }
      ]
    },
    {
      "cell_type": "code",
      "metadata": {
        "id": "DAo3M5HaaJ8D",
        "colab": {
          "base_uri": "https://localhost:8080/"
        },
        "outputId": "113cb865-074f-47b4-e32c-5f4ef13da710"
      },
      "source": [
        "#train model here\n",
        "model.compile(\n",
        "    loss = keras.losses.SparseCategoricalCrossentropy(from_logits=True),\n",
        "    optimizer = keras.optimizers.Adam(),\n",
        "    metrics = ['accuracy'],\n",
        ")\n",
        "model.fit(x_train, y_train, batch_size=32, epochs=2)"
      ],
      "execution_count": 58,
      "outputs": [
        {
          "output_type": "stream",
          "name": "stdout",
          "text": [
            "Epoch 1/2\n"
          ]
        },
        {
          "output_type": "stream",
          "name": "stderr",
          "text": [
            "/usr/local/lib/python3.7/dist-packages/tensorflow/python/data/ops/dataset_ops.py:4527: UserWarning: Even though the `tf.config.experimental_run_functions_eagerly` option is set, this option does not apply to tf.data functions. To force eager execution of tf.data functions, please use `tf.data.experimental.enable_debug_mode()`.\n",
            "  \"Even though the `tf.config.experimental_run_functions_eagerly` \"\n",
            "/usr/local/lib/python3.7/dist-packages/tensorflow/python/util/dispatch.py:1096: UserWarning: \"`sparse_categorical_crossentropy` received `from_logits=True`, but the `output` argument was produced by a sigmoid or softmax activation and thus does not represent logits. Was this intended?\"\n",
            "  return dispatch_target(*args, **kwargs)\n"
          ]
        },
        {
          "output_type": "stream",
          "name": "stdout",
          "text": [
            "1875/1875 [==============================] - 106s 57ms/step - loss: 0.1153 - accuracy: 0.9645\n",
            "Epoch 2/2\n",
            "1875/1875 [==============================] - 106s 57ms/step - loss: 0.0476 - accuracy: 0.9852\n"
          ]
        },
        {
          "output_type": "execute_result",
          "data": {
            "text/plain": [
              "<keras.callbacks.History at 0x7f8cd455fcd0>"
            ]
          },
          "metadata": {},
          "execution_count": 58
        }
      ]
    },
    {
      "cell_type": "code",
      "metadata": {
        "id": "Wvo7QLJNJLGA",
        "colab": {
          "base_uri": "https://localhost:8080/"
        },
        "outputId": "619f7947-3221-4862-f6a8-0820d9a83bb6"
      },
      "source": [
        "#evaluate model here\n",
        "model.evaluate(x_test, y_test, batch_size=32)"
      ],
      "execution_count": 59,
      "outputs": [
        {
          "output_type": "stream",
          "name": "stdout",
          "text": [
            "  4/313 [..............................] - ETA: 6s - loss: 0.0137 - accuracy: 0.9922 "
          ]
        },
        {
          "output_type": "stream",
          "name": "stderr",
          "text": [
            "/usr/local/lib/python3.7/dist-packages/tensorflow/python/data/ops/dataset_ops.py:4527: UserWarning: Even though the `tf.config.experimental_run_functions_eagerly` option is set, this option does not apply to tf.data functions. To force eager execution of tf.data functions, please use `tf.data.experimental.enable_debug_mode()`.\n",
            "  \"Even though the `tf.config.experimental_run_functions_eagerly` \"\n",
            "/usr/local/lib/python3.7/dist-packages/tensorflow/python/util/dispatch.py:1096: UserWarning: \"`sparse_categorical_crossentropy` received `from_logits=True`, but the `output` argument was produced by a sigmoid or softmax activation and thus does not represent logits. Was this intended?\"\n",
            "  return dispatch_target(*args, **kwargs)\n"
          ]
        },
        {
          "output_type": "stream",
          "name": "stdout",
          "text": [
            "313/313 [==============================] - 7s 23ms/step - loss: 0.0448 - accuracy: 0.9862\n"
          ]
        },
        {
          "output_type": "execute_result",
          "data": {
            "text/plain": [
              "[0.04480743035674095, 0.9861999750137329]"
            ]
          },
          "metadata": {},
          "execution_count": 59
        }
      ]
    },
    {
      "cell_type": "markdown",
      "metadata": {
        "id": "lzKdD3XAMrir"
      },
      "source": [
        "## Congratulations!\n",
        "#### Now you know how to build class based models and custom layers!"
      ]
    },
    {
      "cell_type": "code",
      "metadata": {
        "id": "xcEpZTjsKdvM"
      },
      "source": [
        ""
      ],
      "execution_count": 59,
      "outputs": []
    }
  ]
}
